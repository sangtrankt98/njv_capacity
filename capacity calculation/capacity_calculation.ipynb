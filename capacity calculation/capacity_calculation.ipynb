{
  "nbformat": 4,
  "nbformat_minor": 0,
  "metadata": {
    "colab": {
      "name": "capacity calculation.ipynb",
      "provenance": [],
      "collapsed_sections": []
    },
    "kernelspec": {
      "name": "python3",
      "display_name": "Python 3"
    },
    "language_info": {
      "name": "python"
    }
  },
  "cells": [
    {
      "cell_type": "code",
      "metadata": {
        "id": "BKCxxCBnvdDY"
      },
      "source": [
        "import pandas as pd\n",
        "import numpy as np\n",
        "import matplotlib.pyplot as plt\n",
        "import seaborn as sns"
      ],
      "execution_count": null,
      "outputs": []
    },
    {
      "cell_type": "markdown",
      "metadata": {
        "id": "jMXfN6elSXJ3"
      },
      "source": [
        "### import data"
      ]
    },
    {
      "cell_type": "code",
      "metadata": {
        "id": "p7LalKnvvgI7"
      },
      "source": [
        "lm= pd.read_csv('/content/drive/MyDrive/Desktop/capacity calculation/lm_cap_project.csv')\n",
        "fm= pd.read_csv('/content/drive/MyDrive/Desktop/capacity calculation/fm_cap_project.csv')\n",
        "rts= pd.read_csv('/content/drive/MyDrive/Desktop/capacity calculation/rts_cap_project.csv')"
      ],
      "execution_count": null,
      "outputs": []
    },
    {
      "cell_type": "code",
      "metadata": {
        "colab": {
          "base_uri": "https://localhost:8080/"
        },
        "id": "D-7THcSpTBkf",
        "outputId": "d91dd8ea-5fc6-4622-fd7b-805fe47c4c0d"
      },
      "source": [
        "# lm['shipper_group'].unique()\n",
        "# rts['last_mile_hub_name'].nunique()\n",
        "fm['hub_name'].unique()"
      ],
      "execution_count": null,
      "outputs": [
        {
          "output_type": "execute_result",
          "data": {
            "text/plain": [
              "array(['HCM - Binh Thanh 1 - SOU - DP', 'HCM - District 10 - SOU - DP',\n",
              "       'HCM - District 7 - SOU - DP', 'HCM - Go Vap A - SOU - DP',\n",
              "       'HCM - Phu Nhuan - SOU - DP', 'HCM - Tan Binh 1 - SOU - DP',\n",
              "       'HCM - Thu Duc - SOU - DP'], dtype=object)"
            ]
          },
          "metadata": {
            "tags": []
          },
          "execution_count": 49
        }
      ]
    },
    {
      "cell_type": "code",
      "metadata": {
        "id": "xGVJoV6PYlee"
      },
      "source": [
        "fm_columns = ['cal_date', 'shipper_group', 'hub_name', 'total_orders_kpi',\n",
        "        'first_mile_cancelled_rate', 'first_attempt_ontime_rate_kpi','pu_success_ontime_rate']\n",
        "lm_columns = ['cal_date', 'hub_name','shipper_group','attempt_day1_OTP',\n",
        "      'succcess_day1_OTP','succcess_day2_OTP','succcess_day3_OTP','volume_of_ontime_KPI',]\n",
        "fm= fm[fm_columns]\n",
        "lm= lm[lm_columns]"
      ],
      "execution_count": null,
      "outputs": []
    },
    {
      "cell_type": "code",
      "metadata": {
        "id": "_5LGAs601cgr"
      },
      "source": [
        "# +0.05*aggregated['succcess_day3_OTP']\n",
        "aggregated1 = fm.merge(lm,how='left',on= ['cal_date','shipper_group','hub_name'],suffixes=('_fm', '_lm'))\n",
        "aggregated = aggregated1.merge(rts,how='left',on=['cal_date','shipper_group','hub_name'])"
      ],
      "execution_count": null,
      "outputs": []
    },
    {
      "cell_type": "code",
      "metadata": {
        "colab": {
          "base_uri": "https://localhost:8080/"
        },
        "id": "W1lhzPNZPlOX",
        "outputId": "238fe074-0fa6-4131-c7b5-46d4964716ef"
      },
      "source": [
        "aggregated.info()\n",
        "# rts.columns"
      ],
      "execution_count": null,
      "outputs": [
        {
          "output_type": "stream",
          "text": [
            "<class 'pandas.core.frame.DataFrame'>\n",
            "Int64Index: 2947 entries, 0 to 2946\n",
            "Data columns (total 17 columns):\n",
            " #   Column                         Non-Null Count  Dtype  \n",
            "---  ------                         --------------  -----  \n",
            " 0   cal_date                       2947 non-null   object \n",
            " 1   shipper_group                  2947 non-null   object \n",
            " 2   hub_name                       2947 non-null   object \n",
            " 3   total_orders_kpi               2947 non-null   int64  \n",
            " 4   first_mile_cancelled_rate      2947 non-null   float64\n",
            " 5   first_attempt_ontime_rate_kpi  2947 non-null   float64\n",
            " 6   pu_success_ontime_rate         2947 non-null   float64\n",
            " 7   attempt_day1_OTP               2756 non-null   float64\n",
            " 8   succcess_day1_OTP              2756 non-null   float64\n",
            " 9   succcess_day2_OTP              2756 non-null   float64\n",
            " 10  succcess_day3_OTP              2756 non-null   float64\n",
            " 11  volume_of_ontime_KPI           2756 non-null   float64\n",
            " 12  avg_pending_time_dest_hub      2739 non-null   float64\n",
            " 13  avg_delivery_attempts          2756 non-null   float64\n",
            " 14  total_orders                   2756 non-null   float64\n",
            " 15  rts_orders                     2756 non-null   float64\n",
            " 16  rts_rate                       2756 non-null   float64\n",
            "dtypes: float64(13), int64(1), object(3)\n",
            "memory usage: 414.4+ KB\n"
          ],
          "name": "stdout"
        }
      ]
    },
    {
      "cell_type": "markdown",
      "metadata": {
        "id": "ll1H9ke2SfDL"
      },
      "source": [
        "### calculate score"
      ]
    },
    {
      "cell_type": "code",
      "metadata": {
        "id": "H3c_pmxEgKZF"
      },
      "source": [
        "aggregated['total_volume']= aggregated['total_orders_kpi']+aggregated['volume_of_ontime_KPI']\n",
        "aggregated['service_level']= 0.25*aggregated['first_attempt_ontime_rate_kpi']+0.05*aggregated['pu_success_ontime_rate']\n",
        "+0.45*aggregated['attempt_day1_OTP']+0.05*aggregated['succcess_day1_OTP']\n",
        "+0.1*(1-aggregated['rts_rate'])"
      ],
      "execution_count": null,
      "outputs": []
    },
    {
      "cell_type": "code",
      "metadata": {
        "id": "ZpU7CCj92NkN"
      },
      "source": [
        "calculation=aggregated[['cal_date','shipper_group','hub_name','total_volume','service_level']]\n",
        "calculation = calculation[calculation['total_volume'].isnull()==False]"
      ],
      "execution_count": null,
      "outputs": []
    },
    {
      "cell_type": "code",
      "metadata": {
        "id": "pEKdHcKDjiC0"
      },
      "source": [
        "final=calculation.groupby(['cal_date','hub_name']).agg({'total_volume':'sum','service_level':'mean'}).reset_index()\n",
        "final=final[final['service_level']>=0.9]\n",
        "# final.info()"
      ],
      "execution_count": null,
      "outputs": []
    },
    {
      "cell_type": "code",
      "metadata": {
        "colab": {
          "base_uri": "https://localhost:8080/",
          "height": 530
        },
        "id": "IbCn2lwYvJGr",
        "outputId": "9fcd8028-a2da-49ce-ca45-340df1a61a70"
      },
      "source": [
        "fig, ax1 = plt.subplots(1,1,figsize=(20,8),squeeze =False)\n",
        "sns.boxplot(data=final,x='hub_name',y='total_volume',ax=ax1[0,0],palette='Dark2')\n",
        "# sns.boxplot(data=df3,x='target',y='hub_region',ax=ax1[0,2],palette='Dark2')\n",
        "ax1[0,0].set_title('hub_name')"
      ],
      "execution_count": null,
      "outputs": [
        {
          "output_type": "execute_result",
          "data": {
            "text/plain": [
              "Text(0.5, 1.0, 'hub_name')"
            ]
          },
          "metadata": {
            "tags": []
          },
          "execution_count": 42
        },
        {
          "output_type": "display_data",
          "data": {
            "image/png": "[encoded data removed]",
            "text/plain": [
              "<Figure size 1440x576 with 1 Axes>"
            ]
          },
          "metadata": {
            "tags": [],
            "needs_background": "light"
          }
        }
      ]
    },
    {
      "cell_type": "code",
      "metadata": {
        "colab": {
          "base_uri": "https://localhost:8080/",
          "height": 582
        },
        "id": "0v3ENs7Fvzgv",
        "outputId": "9faa722f-3d85-4c16-88b8-3257aba8ad6e"
      },
      "source": [
        "# List of five airlines to plot\n",
        "fig, ax1 = plt.subplots(1,1,figsize=(20,8),squeeze =False)\n",
        "# ['HCM - Binh Thanh 1 - SOU - DP', 'HCM - District 10 - SOU - DP',\n",
        "#        'HCM - District 7 - SOU - DP', 'HCM - Go Vap A - SOU - DP',\n",
        "#        'HCM - Phu Nhuan - SOU - DP', 'HCM - Tan Binh 1 - SOU - DP',\n",
        "#        'HCM - Thu Duc - SOU - DP']\n",
        "# hub_name = final['hub_name'].unique()\n",
        "hub_name = ['HCM - Go Vap A - SOU - DP']\n",
        "# Iterate through the five airlines\n",
        "for loop in hub_name:\n",
        "    # Subset to the airline\n",
        "    subset = final[final['hub_name'] == loop]\n",
        "    \n",
        "    # Draw the density plot\n",
        "    sns.distplot(subset['total_volume'], hist = True, kde = True,\n",
        "                 kde_kws = {'linewidth': 3},\n",
        "                 label = loop)\n",
        "    \n",
        "# Plot formatting\n",
        "plt.legend(prop={'size': 16}, title = 'hub_name')\n",
        "plt.title('Density Plot')\n",
        "plt.xlabel('Volume')\n",
        "plt.ylabel('Density')"
      ],
      "execution_count": null,
      "outputs": [
        {
          "output_type": "stream",
          "text": [
            "/usr/local/lib/python3.7/dist-packages/seaborn/distributions.py:2557: FutureWarning: `distplot` is a deprecated function and will be removed in a future version. Please adapt your code to use either `displot` (a figure-level function with similar flexibility) or `histplot` (an axes-level function for histograms).\n",
            "  warnings.warn(msg, FutureWarning)\n"
          ],
          "name": "stderr"
        },
        {
          "output_type": "execute_result",
          "data": {
            "text/plain": [
              "Text(0, 0.5, 'Density')"
            ]
          },
          "metadata": {
            "tags": []
          },
          "execution_count": 48
        },
        {
          "output_type": "display_data",
          "data": {
            "image/png": "[encoded data removed]",
            "text/plain": [
              "<Figure size 1440x576 with 1 Axes>"
            ]
          },
          "metadata": {
            "tags": [],
            "needs_background": "light"
          }
        }
      ]
    },
    {
      "cell_type": "code",
      "metadata": {
        "colab": {
          "base_uri": "https://localhost:8080/",
          "height": 293
        },
        "id": "ttk12cFMTSFg",
        "outputId": "417e9480-fe4b-4135-e0eb-adea6e272534"
      },
      "source": [
        "final.groupby('hub_name').agg('mean')"
      ],
      "execution_count": null,
      "outputs": [
        {
          "output_type": "execute_result",
          "data": {
            "text/html": [
              "<div>\n",
              "<style scoped>\n",
              "    .dataframe tbody tr th:only-of-type {\n",
              "        vertical-align: middle;\n",
              "    }\n",
              "\n",
              "    .dataframe tbody tr th {\n",
              "        vertical-align: top;\n",
              "    }\n",
              "\n",
              "    .dataframe thead th {\n",
              "        text-align: right;\n",
              "    }\n",
              "</style>\n",
              "<table border=\"1\" class=\"dataframe\">\n",
              "  <thead>\n",
              "    <tr style=\"text-align: right;\">\n",
              "      <th></th>\n",
              "      <th>total_volume</th>\n",
              "      <th>service_level</th>\n",
              "    </tr>\n",
              "    <tr>\n",
              "      <th>hub_name</th>\n",
              "      <th></th>\n",
              "      <th></th>\n",
              "    </tr>\n",
              "  </thead>\n",
              "  <tbody>\n",
              "    <tr>\n",
              "      <th>HCM - Binh Thanh 1 - SOU - DP</th>\n",
              "      <td>3186.080214</td>\n",
              "      <td>0.960035</td>\n",
              "    </tr>\n",
              "    <tr>\n",
              "      <th>HCM - District 10 - SOU - DP</th>\n",
              "      <td>3435.096774</td>\n",
              "      <td>0.964169</td>\n",
              "    </tr>\n",
              "    <tr>\n",
              "      <th>HCM - District 7 - SOU - DP</th>\n",
              "      <td>2910.000000</td>\n",
              "      <td>0.955350</td>\n",
              "    </tr>\n",
              "    <tr>\n",
              "      <th>HCM - Go Vap A - SOU - DP</th>\n",
              "      <td>5700.790816</td>\n",
              "      <td>0.963132</td>\n",
              "    </tr>\n",
              "    <tr>\n",
              "      <th>HCM - Phu Nhuan - SOU - DP</th>\n",
              "      <td>3257.680000</td>\n",
              "      <td>0.967576</td>\n",
              "    </tr>\n",
              "    <tr>\n",
              "      <th>HCM - Tan Binh 1 - SOU - DP</th>\n",
              "      <td>4250.312849</td>\n",
              "      <td>0.963088</td>\n",
              "    </tr>\n",
              "    <tr>\n",
              "      <th>HCM - Thu Duc - SOU - DP</th>\n",
              "      <td>3754.829412</td>\n",
              "      <td>0.952081</td>\n",
              "    </tr>\n",
              "  </tbody>\n",
              "</table>\n",
              "</div>"
            ],
            "text/plain": [
              "                               total_volume  service_level\n",
              "hub_name                                                  \n",
              "HCM - Binh Thanh 1 - SOU - DP   3186.080214       0.960035\n",
              "HCM - District 10 - SOU - DP    3435.096774       0.964169\n",
              "HCM - District 7 - SOU - DP     2910.000000       0.955350\n",
              "HCM - Go Vap A - SOU - DP       5700.790816       0.963132\n",
              "HCM - Phu Nhuan - SOU - DP      3257.680000       0.967576\n",
              "HCM - Tan Binh 1 - SOU - DP     4250.312849       0.963088\n",
              "HCM - Thu Duc - SOU - DP        3754.829412       0.952081"
            ]
          },
          "metadata": {
            "tags": []
          },
          "execution_count": 40
        }
      ]
    },
    {
      "cell_type": "code",
      "metadata": {
        "colab": {
          "base_uri": "https://localhost:8080/"
        },
        "id": "d9WblI3_W5Z8",
        "outputId": "b06fd63d-6520-4fa8-c86c-e7176c9f00b3"
      },
      "source": [
        "final['hub_name'].unique()"
      ],
      "execution_count": null,
      "outputs": [
        {
          "output_type": "execute_result",
          "data": {
            "text/plain": [
              "array(['HCM - Binh Thanh 1 - SOU - DP', 'HCM - District 10 - SOU - DP',\n",
              "       'HCM - District 7 - SOU - DP', 'HCM - Go Vap A - SOU - DP',\n",
              "       'HCM - Phu Nhuan - SOU - DP', 'HCM - Tan Binh 1 - SOU - DP',\n",
              "       'HCM - Thu Duc - SOU - DP'], dtype=object)"
            ]
          },
          "metadata": {
            "tags": []
          },
          "execution_count": 47
        }
      ]
    }
  ]
}